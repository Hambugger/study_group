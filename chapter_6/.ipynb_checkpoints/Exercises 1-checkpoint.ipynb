{
 "cells": [
  {
   "cell_type": "markdown",
   "id": "09273622",
   "metadata": {},
   "source": [
    "# R-6-1"
   ]
  },
  {
   "cell_type": "code",
   "execution_count": 1,
   "id": "48033ef3",
   "metadata": {},
   "outputs": [],
   "source": [
    "\"\"\" What values are returned during the following series of stack operations, if\n",
    "executed upon an initially empty stack? push(5), push(3), pop(), push(2),\n",
    "push(8), pop(), pop(), push(9), push(1), pop(), push(7), push(6), pop(),\n",
    "pop(), push(4), pop(), pop(). \"\"\"\n",
    "\n",
    "class Empty(Exception):\n",
    "    pass\n",
    "\n",
    "class ArrayStack:\n",
    "    \"\"\" LIFO stack implementation using python list as underlying storage. \"\"\"\n",
    "\n",
    "    def __init__(self):\n",
    "        self._data =[]\n",
    "\n",
    "    def __len__(self):\n",
    "        return len(self._data)\n",
    "    \n",
    "    def is_empty(self):\n",
    "        return len(self._data) == 0\n",
    "    \n",
    "    def push(self, e):\n",
    "        self._data.append(e)\n",
    "\n",
    "    def top(self):\n",
    "        if self.is_empty():\n",
    "            raise Empty('Stack is empty')\n",
    "        return self._data[-1]\n",
    "    \n",
    "    def pop(self):\n",
    "        if self.is_empty():\n",
    "            raise Empty('Stack is empty')\n",
    "        return self._data.pop()"
   ]
  },
  {
   "cell_type": "code",
   "execution_count": 2,
   "id": "c41b9849",
   "metadata": {},
   "outputs": [],
   "source": [
    "x = ArrayStack() # run on jupyter "
   ]
  },
  {
   "cell_type": "code",
   "execution_count": 5,
   "id": "56c1e85d",
   "metadata": {},
   "outputs": [],
   "source": [
    "x.push(5)\n",
    "x.push(3)\n",
    "x.pop()\n",
    "x.push(2)\n",
    "x.push(8)\n",
    "x.pop()\n",
    "x.pop()\n",
    "x.push(9)\n",
    "x.push(1)\n",
    "x.pop()\n",
    "x.push(7)\n",
    "x.push(6)\n",
    "x.pop()\n",
    "x.pop()\n",
    "x.pop()\n",
    "x.pop()\n",
    "\n",
    "x.push(4)"
   ]
  },
  {
   "cell_type": "code",
   "execution_count": null,
   "id": "b542c0f3",
   "metadata": {},
   "outputs": [],
   "source": []
  },
  {
   "cell_type": "code",
   "execution_count": null,
   "id": "c49c7111",
   "metadata": {},
   "outputs": [],
   "source": []
  }
 ],
 "metadata": {
  "kernelspec": {
   "display_name": "Python 3 (ipykernel)",
   "language": "python",
   "name": "python3"
  },
  "language_info": {
   "codemirror_mode": {
    "name": "ipython",
    "version": 3
   },
   "file_extension": ".py",
   "mimetype": "text/x-python",
   "name": "python",
   "nbconvert_exporter": "python",
   "pygments_lexer": "ipython3",
   "version": "3.10.9"
  }
 },
 "nbformat": 4,
 "nbformat_minor": 5
}
